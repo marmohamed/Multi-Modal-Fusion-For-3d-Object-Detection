{
 "cells": [
  {
   "cell_type": "code",
   "execution_count": 1,
   "metadata": {
    "collapsed": true
   },
   "outputs": [],
   "source": [
    "%load_ext autoreload\n",
    "%autoreload 2.0\n",
    "%matplotlib inline"
   ]
  },
  {
   "cell_type": "code",
   "execution_count": 2,
   "metadata": {},
   "outputs": [
    {
     "name": "stderr",
     "output_type": "stream",
     "text": [
      "/Users/apple/anaconda3/lib/python3.6/importlib/_bootstrap.py:219: RuntimeWarning: numpy.dtype size changed, may indicate binary incompatibility. Expected 96, got 88\n",
      "  return f(*args, **kwds)\n"
     ]
    }
   ],
   "source": [
    "import os\n",
    "import glob\n",
    "import matplotlib.pyplot as plt\n",
    "import matplotlib.image as mpimg\n",
    "import matplotlib.patches as patches\n",
    "import numpy as np\n",
    "import sys\n",
    "sys.path.insert(0, '../.')\n",
    "from data.detection_dataset_loader import *\n",
    "from scipy.spatial.transform import Rotation as R\n",
    "from data.data_utils.data_reader import *\n",
    "from data.data_utils.reader_utils import *\n",
    "import math\n",
    "import numpy.matlib as npm\n",
    "\n",
    "from scipy.interpolate import RegularGridInterpolator, NearestNDInterpolator"
   ]
  },
  {
   "cell_type": "code",
   "execution_count": 3,
   "metadata": {
    "collapsed": true
   },
   "outputs": [],
   "source": [
    "def get_augmentation_parameters( training):\n",
    "        if training:\n",
    "\n",
    "                    if np.random.random_sample() >= 0.5:\n",
    "                        image_translate_x = random.randint(-50, 50)\n",
    "                    else:\n",
    "                        image_translate_x = 0\n",
    "                    if np.random.random_sample() >= 0.5:\n",
    "                        image_translate_y = random.randint(-25, 25)\n",
    "                    else:\n",
    "                        image_translate_y = 0\n",
    "\n",
    "                    if np.random.random_sample() >= 0.5:\n",
    "                        translate_x = random.randint(-5, 5)\n",
    "                    else:\n",
    "                        translate_x = 0\n",
    "                    if np.random.random_sample() >= 0.5:\n",
    "                        translate_y = random.randint(-5, 5)\n",
    "                    else:\n",
    "                        translate_y = 0\n",
    "\n",
    "                    if np.random.random_sample() >= 0.8:\n",
    "                        translate_z = random.random() - 0.5\n",
    "                    else:\n",
    "                        translate_z = 0\n",
    "\n",
    "                    if np.random.random_sample() >= 0.3:\n",
    "                        ang = random.randint(-5, 5)\n",
    "                    else:\n",
    "                        ang = 0\n",
    "\n",
    "                    r = R.from_rotvec(np.radians(ang) * np.array([0, 0, 1]))\n",
    "                    rot = r.as_dcm()\n",
    "                    rot = np.append(rot, np.array([[0,0,0]]), axis=0)\n",
    "                    rot = np.append(rot, np.array([[0],[0],[0],[1]]), axis=1)\n",
    "\n",
    "                    tr_x = translate_x\n",
    "                    tr_y = translate_y\n",
    "                    tr_z = translate_z\n",
    "                    tr = np.array([[tr_x], [tr_y], [tr_z], [0]])\n",
    "                    \n",
    "                    translate_x = 0\n",
    "                    translate_y = 0\n",
    "                    translate_z = 0\n",
    "                    \n",
    "                    sc_x = 1\n",
    "                    sc_y = 2\n",
    "                    sc_z = 1\n",
    "\n",
    "#                     if np.random.random_sample() >= 0.5:\n",
    "#                        sc_x += ((random.random() * 2) - 1.) / 10.\n",
    "\n",
    "#                     if np.random.random_sample() >= 0.5:\n",
    "#                        sc_y += ((random.random() * 2) - 1.) / 10.\n",
    "\n",
    "\n",
    "                    sc = np.array([[sc_x, 0, 0, 0], [0, sc_y, 0, 0], [0, 0, sc_z, 0], [0, 0, 0, 1]])\n",
    "                    \n",
    "                    fliplr = np.random.random_sample() >= 0.5\n",
    "\n",
    "        else:\n",
    "                    image_translate_x = 0\n",
    "                    image_translate_y = 0\n",
    "\n",
    "                    translate_x = 0\n",
    "                    translate_y = 0\n",
    "                    translate_z = 0\n",
    "                    ang = 0\n",
    "\n",
    "                    r = R.from_rotvec(np.radians(0) * np.array([0, 0, 1]))\n",
    "                    rot = r.as_dcm()\n",
    "                    rot = np.append(rot, np.array([[0,0,0]]), axis=0)\n",
    "                    rot = np.append(rot, np.array([[0],[0],[0],[1]]), axis=1)\n",
    "\n",
    "                    tr_x = 0\n",
    "                    tr_y = 0\n",
    "                    tr_z = 0\n",
    "                    tr = np.array([[tr_x], [tr_y], [tr_z], [0]])\n",
    "\n",
    "                    sc_x = 1\n",
    "                    sc_y = 1\n",
    "                    sc_z = 1\n",
    "                    sc = np.array([[sc_x, 0, 0, 0], [0, sc_y, 0, 0], [0, 0, sc_z, 0], [0, 0, 0, 1]])\n",
    "                    \n",
    "                    fliplr = False\n",
    "\n",
    "        return rot, tr, sc, image_translate_x, image_translate_y, ang, fliplr"
   ]
  },
  {
   "cell_type": "code",
   "execution_count": 4,
   "metadata": {},
   "outputs": [],
   "source": [
    "training=True\n",
    "base_path = '/Users/apple/Desktop/Master2/data/'\n",
    "list_files = list(map(lambda x: x.split('.')[0], os.listdir(base_path+'/training2/label_2/')))\n",
    "# random.seed(0)\n",
    "# random.shuffle(list_files)\n",
    "\n",
    "# camera_paths = list(map(lambda x: base_path+'/data_object_image_3/training/image_3/' + x + '.png', list_files))\n",
    "# lidar_paths = list(map(lambda x: base_path+'/data_object_velodyne/training/velodyne/' + x + '.bin', list_files))\n",
    "label_paths = list(map(lambda x: base_path + '/training2/label_2/' + x + '.txt', list_files))\n",
    "calib_paths = list(map(lambda x: base_path + '/data_object_calib/training/calib/' + x + '.txt', list_files))\n",
    "        \n",
    "ln = int(len(list_files) * 0.5)\n",
    "final_sample = len(list_files)\n",
    "\n",
    "        \n",
    "list_files = list_files[:len(list_files)]\n",
    "list_label_paths = label_paths[:len(list_files)]\n",
    "list_calib_paths = calib_paths[:len(list_files)]"
   ]
  },
  {
   "cell_type": "code",
   "execution_count": 5,
   "metadata": {
    "collapsed": true
   },
   "outputs": [],
   "source": [
    "def get_target2(labels, directions, anchors=np.array([3.9, 1.6, 1.5]), input_size=(512, 448), output_size=(128, 112)):\n",
    "    # ASSUMPTION: I will assume that the anchors contain a record for the height\n",
    "    \"\"\"\n",
    "    - calculate the ratio = input size / final output size\n",
    "    - divide each of the x, y and z by the ratio\n",
    "    - subtract each of the x, y and z ....\n",
    "    \"\"\"\n",
    "\n",
    "    ratio = input_size[0] // output_size[0]\n",
    "    y_target = np.zeros((output_size[0], output_size[1], 2, 9), np.float32)\n",
    "    old_angles = []\n",
    "    angles = []\n",
    "    angles_0 = []\n",
    "    angles_1 = []\n",
    "    for i in range(len(labels)):\n",
    "        label_i = np.array(labels[i])\n",
    "\n",
    "        x = int(label_i[0]/ratio)\n",
    "        y = int(label_i[1]/ratio)\n",
    "\n",
    "        if x >= output_size[0]:\n",
    "            x = output_size[0] - 1\n",
    "        if y >= output_size[1]:\n",
    "            y = output_size[1] - 1\n",
    "\n",
    "        if x < 0 or y < 0:\n",
    "            continue\n",
    "\n",
    "        label_i[0:2] = label_i[0:2] / (ratio*1.0)\n",
    "        label_i[2] = label_i[2] / 40.\n",
    "        old_angles.append(label_i[6])\n",
    "        temp = label_i[6]\n",
    "#         if temp < 0:\n",
    "#             temp += np.pi\n",
    "\n",
    "#         angle = temp * 57.2958\n",
    "#         if (angle >= 0 and angle <= 45) or (angle >= 135 and angle <= 225) or (angle >= 315 and angle <= 360):\n",
    "#             k = 0\n",
    "#         else:\n",
    "#             k = 1\n",
    "\n",
    "        angle = temp * 57.2958\n",
    "        if (angle >= 0 and angle <= 45) or (angle <= 0 and angle >= -45)\\\n",
    "            or (angle >= 135 and angle <= 180) or (angle <= -135 and angle >= -180):\n",
    "            if angle >= 135:\n",
    "                label_i[6] = label_i[6] - np.pi\n",
    "            elif angle <= -135:\n",
    "                label_i[6] = label_i[6] + np.pi\n",
    "            k = 0\n",
    "            angles_0.append(label_i[6])\n",
    "        else:\n",
    "            if angle < 0:\n",
    "                label_i[6] = label_i[6] + np.pi\n",
    "#             elif angle <= -90:\n",
    "#                 label_i[6] = label_i[6] + np.pi\n",
    "            angles_1.append(label_i[6])\n",
    "            k = 1\n",
    "\n",
    "#         if label_i[6] >= 3 * np.pi / 4:\n",
    "#             label_i[6] = label_i[6] - np.pi\n",
    "        \n",
    "        label_i[6] = label_i[6] - k * (np.pi/2)\n",
    "        \n",
    "        angles.append(label_i[6])\n",
    "\n",
    "        anchor = np.array([x+0.5, y+0.5, 1., anchors[0], anchors[1], anchors[2]])\n",
    "    \n",
    "        label_i[:3] = (label_i[:3] - anchor[:3]) / anchor[3:6]\n",
    "        label_i[3:6] = np.log(label_i[3:6]/anchors)\n",
    "\n",
    "        y_target[x, y, k, :7] = label_i\n",
    "        y_target[x, y, k, 7:8] = [directions[i]]\n",
    "        y_target[x, y, k, 8:9] = [1]\n",
    "        \n",
    "    return old_angles, angles, angles_0, angles_1\n",
    "#     return y_target"
   ]
  },
  {
   "cell_type": "code",
   "execution_count": 6,
   "metadata": {},
   "outputs": [],
   "source": [
    "list_angles = []\n",
    "list_original_angles = []\n",
    "list_angles_0 = []\n",
    "list_angles_1 = []\n",
    "for i_c in range(len(list_files)):\n",
    "    rot, tr, sc, image_translate_x, image_translate_y, ang, fliplr = get_augmentation_parameters(False)\n",
    "    data_reader_obj = DataReader(None,\n",
    "                                 list_calib_paths[i_c], \n",
    "                                 list_label_paths[i_c], \n",
    "                                 None, \n",
    "                                 rot, sc, tr, ang, image_translate_x, image_translate_y, get_actual_dims=True, fliplr=fliplr)\n",
    "    _, label, directions = data_reader_obj.label_reader.read_label()\n",
    "    old_angles, angles, angles_0, angles_1 = get_target2(label, directions,  anchors=np.array([3.9, 1.6, 1.5]))\n",
    "    list_angles.extend(angles)\n",
    "    list_angles_0.extend(angles_0)\n",
    "    list_angles_1.extend(angles_1)\n",
    "    list_original_angles.extend(old_angles)\n"
   ]
  },
  {
   "cell_type": "code",
   "execution_count": 7,
   "metadata": {},
   "outputs": [],
   "source": [
    "list_angles = np.array(list_angles)\n",
    "list_original_angles = np.array(list_original_angles)\n",
    "list_angles_0 = np.array(list_angles_0)\n",
    "list_angles_1 = np.array(list_angles_1)"
   ]
  },
  {
   "cell_type": "code",
   "execution_count": 8,
   "metadata": {},
   "outputs": [
    {
     "data": {
      "text/plain": [
       "(0.7815926535897932, -0.7815926535897932)"
      ]
     },
     "execution_count": 8,
     "metadata": {},
     "output_type": "execute_result"
    }
   ],
   "source": [
    "np.max(list_angles), np.min(list_angles)"
   ]
  },
  {
   "cell_type": "code",
   "execution_count": 9,
   "metadata": {},
   "outputs": [
    {
     "data": {
      "text/plain": [
       "(0.7815926535897932, -0.7815926535897932)"
      ]
     },
     "execution_count": 9,
     "metadata": {},
     "output_type": "execute_result"
    }
   ],
   "source": [
    "np.max(list_angles_0), np.min(list_angles_0)"
   ]
  },
  {
   "cell_type": "code",
   "execution_count": 10,
   "metadata": {},
   "outputs": [
    {
     "data": {
      "text/plain": [
       "(2.351592653589793, 0.79)"
      ]
     },
     "execution_count": 10,
     "metadata": {},
     "output_type": "execute_result"
    }
   ],
   "source": [
    "np.max(list_angles_1), np.min(list_angles_1)"
   ]
  },
  {
   "cell_type": "code",
   "execution_count": 11,
   "metadata": {},
   "outputs": [
    {
     "data": {
      "text/plain": [
       "(3.14, 0.0)"
      ]
     },
     "execution_count": 11,
     "metadata": {},
     "output_type": "execute_result"
    }
   ],
   "source": [
    "np.max(list_original_angles), np.min(list_original_angles)"
   ]
  },
  {
   "cell_type": "code",
   "execution_count": null,
   "metadata": {
    "collapsed": true
   },
   "outputs": [],
   "source": []
  },
  {
   "cell_type": "code",
   "execution_count": 19,
   "metadata": {},
   "outputs": [
    {
     "data": {
      "text/plain": [
       "(0.7800000000000002, -0.7815926535897932)"
      ]
     },
     "execution_count": 19,
     "metadata": {},
     "output_type": "execute_result"
    }
   ],
   "source": [
    "np.max(list_angles), np.min(list_angles)"
   ]
  },
  {
   "cell_type": "code",
   "execution_count": 20,
   "metadata": {},
   "outputs": [
    {
     "data": {
      "text/plain": [
       "(3.14, 0.0)"
      ]
     },
     "execution_count": 20,
     "metadata": {},
     "output_type": "execute_result"
    }
   ],
   "source": [
    "np.max(list_original_angles), np.min(list_original_angles)"
   ]
  },
  {
   "cell_type": "code",
   "execution_count": 23,
   "metadata": {},
   "outputs": [
    {
     "data": {
      "text/plain": [
       "(3.141592653589793, 1.5707963267948966, 0.7853981633974483)"
      ]
     },
     "execution_count": 23,
     "metadata": {},
     "output_type": "execute_result"
    }
   ],
   "source": [
    "np.pi, np.pi/2, np.pi/4"
   ]
  },
  {
   "cell_type": "code",
   "execution_count": null,
   "metadata": {
    "collapsed": true
   },
   "outputs": [],
   "source": []
  }
 ],
 "metadata": {
  "kernelspec": {
   "display_name": "Python 3",
   "language": "python",
   "name": "python3"
  },
  "language_info": {
   "codemirror_mode": {
    "name": "ipython",
    "version": 3
   },
   "file_extension": ".py",
   "mimetype": "text/x-python",
   "name": "python",
   "nbconvert_exporter": "python",
   "pygments_lexer": "ipython3",
   "version": "3.6.7"
  }
 },
 "nbformat": 4,
 "nbformat_minor": 2
}
