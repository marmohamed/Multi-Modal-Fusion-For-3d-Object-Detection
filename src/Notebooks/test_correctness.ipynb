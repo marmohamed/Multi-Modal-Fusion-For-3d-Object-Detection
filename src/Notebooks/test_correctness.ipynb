{
 "cells": [
  {
   "cell_type": "code",
   "execution_count": 1,
   "metadata": {},
   "outputs": [],
   "source": [
    "%load_ext autoreload\n",
    "%autoreload 2.0\n",
    "%matplotlib inline"
   ]
  },
  {
   "cell_type": "code",
   "execution_count": 2,
   "metadata": {},
   "outputs": [
    {
     "name": "stderr",
     "output_type": "stream",
     "text": [
      "/home/injy/mariam_workspace/env/lib/python3.5/site-packages/tensorflow/python/framework/dtypes.py:516: FutureWarning: Passing (type, 1) or '1type' as a synonym of type is deprecated; in a future version of numpy, it will be understood as (type, (1,)) / '(1,)type'.\n",
      "  _np_qint8 = np.dtype([(\"qint8\", np.int8, 1)])\n",
      "/home/injy/mariam_workspace/env/lib/python3.5/site-packages/tensorflow/python/framework/dtypes.py:517: FutureWarning: Passing (type, 1) or '1type' as a synonym of type is deprecated; in a future version of numpy, it will be understood as (type, (1,)) / '(1,)type'.\n",
      "  _np_quint8 = np.dtype([(\"quint8\", np.uint8, 1)])\n",
      "/home/injy/mariam_workspace/env/lib/python3.5/site-packages/tensorflow/python/framework/dtypes.py:518: FutureWarning: Passing (type, 1) or '1type' as a synonym of type is deprecated; in a future version of numpy, it will be understood as (type, (1,)) / '(1,)type'.\n",
      "  _np_qint16 = np.dtype([(\"qint16\", np.int16, 1)])\n",
      "/home/injy/mariam_workspace/env/lib/python3.5/site-packages/tensorflow/python/framework/dtypes.py:519: FutureWarning: Passing (type, 1) or '1type' as a synonym of type is deprecated; in a future version of numpy, it will be understood as (type, (1,)) / '(1,)type'.\n",
      "  _np_quint16 = np.dtype([(\"quint16\", np.uint16, 1)])\n",
      "/home/injy/mariam_workspace/env/lib/python3.5/site-packages/tensorflow/python/framework/dtypes.py:520: FutureWarning: Passing (type, 1) or '1type' as a synonym of type is deprecated; in a future version of numpy, it will be understood as (type, (1,)) / '(1,)type'.\n",
      "  _np_qint32 = np.dtype([(\"qint32\", np.int32, 1)])\n",
      "/home/injy/mariam_workspace/env/lib/python3.5/site-packages/tensorflow/python/framework/dtypes.py:525: FutureWarning: Passing (type, 1) or '1type' as a synonym of type is deprecated; in a future version of numpy, it will be understood as (type, (1,)) / '(1,)type'.\n",
      "  np_resource = np.dtype([(\"resource\", np.ubyte, 1)])\n",
      "/home/injy/mariam_workspace/env/lib/python3.5/site-packages/tensorboard/compat/tensorflow_stub/dtypes.py:541: FutureWarning: Passing (type, 1) or '1type' as a synonym of type is deprecated; in a future version of numpy, it will be understood as (type, (1,)) / '(1,)type'.\n",
      "  _np_qint8 = np.dtype([(\"qint8\", np.int8, 1)])\n",
      "/home/injy/mariam_workspace/env/lib/python3.5/site-packages/tensorboard/compat/tensorflow_stub/dtypes.py:542: FutureWarning: Passing (type, 1) or '1type' as a synonym of type is deprecated; in a future version of numpy, it will be understood as (type, (1,)) / '(1,)type'.\n",
      "  _np_quint8 = np.dtype([(\"quint8\", np.uint8, 1)])\n",
      "/home/injy/mariam_workspace/env/lib/python3.5/site-packages/tensorboard/compat/tensorflow_stub/dtypes.py:543: FutureWarning: Passing (type, 1) or '1type' as a synonym of type is deprecated; in a future version of numpy, it will be understood as (type, (1,)) / '(1,)type'.\n",
      "  _np_qint16 = np.dtype([(\"qint16\", np.int16, 1)])\n",
      "/home/injy/mariam_workspace/env/lib/python3.5/site-packages/tensorboard/compat/tensorflow_stub/dtypes.py:544: FutureWarning: Passing (type, 1) or '1type' as a synonym of type is deprecated; in a future version of numpy, it will be understood as (type, (1,)) / '(1,)type'.\n",
      "  _np_quint16 = np.dtype([(\"quint16\", np.uint16, 1)])\n",
      "/home/injy/mariam_workspace/env/lib/python3.5/site-packages/tensorboard/compat/tensorflow_stub/dtypes.py:545: FutureWarning: Passing (type, 1) or '1type' as a synonym of type is deprecated; in a future version of numpy, it will be understood as (type, (1,)) / '(1,)type'.\n",
      "  _np_qint32 = np.dtype([(\"qint32\", np.int32, 1)])\n",
      "/home/injy/mariam_workspace/env/lib/python3.5/site-packages/tensorboard/compat/tensorflow_stub/dtypes.py:550: FutureWarning: Passing (type, 1) or '1type' as a synonym of type is deprecated; in a future version of numpy, it will be understood as (type, (1,)) / '(1,)type'.\n",
      "  np_resource = np.dtype([(\"resource\", np.ubyte, 1)])\n"
     ]
    }
   ],
   "source": [
    "import os\n",
    "import glob\n",
    "import matplotlib.pyplot as plt\n",
    "import matplotlib.image as mpimg\n",
    "import matplotlib.patches as patches\n",
    "import numpy as np\n",
    "import sys\n",
    "sys.path.insert(0, '../.')\n",
    "from data.detection_dataset_loader import *\n",
    "from scipy.spatial.transform import Rotation as R\n",
    "from data.data_utils.data_reader import *\n",
    "from data.data_utils.reader_utils import *\n",
    "import math\n",
    "import numpy.matlib as npm\n",
    "\n",
    "from scipy.interpolate import RegularGridInterpolator, NearestNDInterpolator"
   ]
  },
  {
   "cell_type": "code",
   "execution_count": 3,
   "metadata": {},
   "outputs": [],
   "source": [
    "def get_augmentation_parameters( training):\n",
    "        if training:\n",
    "\n",
    "                    if np.random.random_sample() >= 0.5:\n",
    "                        image_translate_x = random.randint(-50, 50)\n",
    "                    else:\n",
    "                        image_translate_x = 0\n",
    "                    if np.random.random_sample() >= 0.5:\n",
    "                        image_translate_y = random.randint(-25, 25)\n",
    "                    else:\n",
    "                        image_translate_y = 0\n",
    "\n",
    "                    if np.random.random_sample() >= 0.5:\n",
    "                        translate_x = random.randint(-5, 5)\n",
    "                    else:\n",
    "                        translate_x = 0\n",
    "                    if np.random.random_sample() >= 0.5:\n",
    "                        translate_y = random.randint(-5, 5)\n",
    "                    else:\n",
    "                        translate_y = 0\n",
    "\n",
    "                    if np.random.random_sample() >= 0.8:\n",
    "                        translate_z = random.random() - 0.5\n",
    "                    else:\n",
    "                        translate_z = 0\n",
    "\n",
    "                    if np.random.random_sample() >= 0.3:\n",
    "                        ang = random.randint(-5, 5)\n",
    "                    else:\n",
    "                        ang = 0\n",
    "\n",
    "                    r = R.from_rotvec(np.radians(ang) * np.array([0, 0, 1]))\n",
    "                    rot = r.as_dcm()\n",
    "                    rot = np.append(rot, np.array([[0,0,0]]), axis=0)\n",
    "                    rot = np.append(rot, np.array([[0],[0],[0],[1]]), axis=1)\n",
    "\n",
    "                    tr_x = translate_x\n",
    "                    tr_y = translate_y\n",
    "                    tr_z = translate_z\n",
    "                    tr = np.array([[tr_x], [tr_y], [tr_z], [0]])\n",
    "                    \n",
    "                    translate_x = 0\n",
    "                    translate_y = 0\n",
    "                    translate_z = 0\n",
    "                    \n",
    "                    sc_x = 1\n",
    "                    sc_y = 2\n",
    "                    sc_z = 1\n",
    "\n",
    "#                     if np.random.random_sample() >= 0.5:\n",
    "#                        sc_x += ((random.random() * 2) - 1.) / 10.\n",
    "\n",
    "#                     if np.random.random_sample() >= 0.5:\n",
    "#                        sc_y += ((random.random() * 2) - 1.) / 10.\n",
    "\n",
    "\n",
    "                    sc = np.array([[sc_x, 0, 0, 0], [0, sc_y, 0, 0], [0, 0, sc_z, 0], [0, 0, 0, 1]])\n",
    "                    \n",
    "                    fliplr = np.random.random_sample() >= 0.5\n",
    "\n",
    "        else:\n",
    "                    image_translate_x = 0\n",
    "                    image_translate_y = 0\n",
    "\n",
    "                    translate_x = 0\n",
    "                    translate_y = 0\n",
    "                    translate_z = 0\n",
    "                    ang = 0\n",
    "\n",
    "                    r = R.from_rotvec(np.radians(0) * np.array([0, 0, 1]))\n",
    "                    rot = r.as_dcm()\n",
    "                    rot = np.append(rot, np.array([[0,0,0]]), axis=0)\n",
    "                    rot = np.append(rot, np.array([[0],[0],[0],[1]]), axis=1)\n",
    "\n",
    "                    tr_x = 0\n",
    "                    tr_y = 0\n",
    "                    tr_z = 0\n",
    "                    tr = np.array([[tr_x], [tr_y], [tr_z], [0]])\n",
    "\n",
    "                    sc_x = 1\n",
    "                    sc_y = 1\n",
    "                    sc_z = 1\n",
    "                    sc = np.array([[sc_x, 0, 0, 0], [0, sc_y, 0, 0], [0, 0, sc_z, 0], [0, 0, 0, 1]])\n",
    "                    \n",
    "                    fliplr = False\n",
    "\n",
    "        return rot, tr, sc, image_translate_x, image_translate_y, ang, fliplr"
   ]
  },
  {
   "cell_type": "code",
   "execution_count": 4,
   "metadata": {},
   "outputs": [],
   "source": [
    "training=True\n",
    "base_path = '../../../Data/'\n",
    "list_files = list(map(lambda x: x.split('.')[0], os.listdir(base_path+'/data_object_image_3/training/image_3/')))\n",
    "# random.seed(0)\n",
    "# random.shuffle(list_files)\n",
    "\n",
    "# camera_paths = list(map(lambda x: base_path+'/data_object_image_3/training/image_3/' + x + '.png', list_files))\n",
    "# lidar_paths = list(map(lambda x: base_path+'/data_object_velodyne/training/velodyne/' + x + '.bin', list_files))\n",
    "label_paths = list(map(lambda x: base_path + '/data_object_label_2/training/label_2/' + x + '.txt', list_files))\n",
    "calib_paths = list(map(lambda x: base_path + '/data_object_calib/training/calib/' + x + '.txt', list_files))\n",
    "        \n",
    "ln = int(len(list_files) * 0.5)\n",
    "final_sample = len(list_files)\n",
    "\n",
    "        \n",
    "list_files = list_files[:len(list_files)]\n",
    "list_label_paths = label_paths[:len(list_files)]\n",
    "list_calib_paths = calib_paths[:len(list_files)]"
   ]
  },
  {
   "cell_type": "code",
   "execution_count": 5,
   "metadata": {},
   "outputs": [],
   "source": [
    "def get_target2(labels, directions, anchors=np.array([3.9, 1.6, 1.5]), input_size=(800, 700), \n",
    "                output_size=(200, 175)):\n",
    "    # ASSUMPTION: I will assume that the anchors contain a record for the height\n",
    "    \"\"\"\n",
    "    - calculate the ratio = input size / final output size\n",
    "    - divide each of the x, y and z by the ratio\n",
    "    - subtract each of the x, y and z ....\n",
    "    \"\"\"\n",
    "\n",
    "    ratio = input_size[0] // output_size[0]\n",
    "    y_target = np.zeros((output_size[0], output_size[1], 2, 9), np.float32)\n",
    "    old_angles = []\n",
    "    angles = []\n",
    "    angles_0 = []\n",
    "    angles_1 = []\n",
    "    for i in range(len(labels)):\n",
    "        label_i = np.array(labels[i])\n",
    "\n",
    "        x = int(label_i[0]/ratio)\n",
    "        y = int(label_i[1]/ratio)\n",
    "\n",
    "        if x >= output_size[0]:\n",
    "            x = output_size[0] - 1\n",
    "        if y >= output_size[1]:\n",
    "            y = output_size[1] - 1\n",
    "\n",
    "        if x < 0 or y < 0:\n",
    "            continue\n",
    "\n",
    "        label_i[0:2] = label_i[0:2] / (ratio*1.0)\n",
    "        label_i[2] = label_i[2] / 36.\n",
    "        old_angles.append(label_i[6])\n",
    "        temp = label_i[6]\n",
    "#         if temp < 0:\n",
    "#             temp += np.pi\n",
    "\n",
    "#         angle = temp * 57.2958\n",
    "#         if (angle >= 0 and angle <= 45) or (angle >= 135 and angle <= 225) or (angle >= 315 and angle <= 360):\n",
    "#             k = 0\n",
    "#         else:\n",
    "#             k = 1\n",
    "\n",
    "        angle = temp * 57.2958\n",
    "        if (angle >= 0 and angle <= 45) or (angle <= 0 and angle >= -45)\\\n",
    "            or (angle >= 135 and angle <= 180) or (angle <= -135 and angle >= -180):\n",
    "            if angle >= 135:\n",
    "                label_i[6] = label_i[6] - np.pi\n",
    "            elif angle <= -135:\n",
    "                label_i[6] = label_i[6] + np.pi\n",
    "            k = 0\n",
    "            angles_0.append(label_i[6])\n",
    "        else:\n",
    "            if angle < 0:\n",
    "                label_i[6] = label_i[6] + np.pi\n",
    "#             elif angle <= -90:\n",
    "#                 label_i[6] = label_i[6] + np.pi\n",
    "            angles_1.append(label_i[6])\n",
    "            k = 1\n",
    "\n",
    "#         if label_i[6] >= 3 * np.pi / 4:\n",
    "#             label_i[6] = label_i[6] - np.pi\n",
    "        \n",
    "        label_i[6] = label_i[6] - k * (np.pi/2)\n",
    "        \n",
    "        angles.append(label_i[6])\n",
    "\n",
    "        anchor = np.array([x+0.5, y+0.5, 1., anchors[0], anchors[1], anchors[2]])\n",
    "    \n",
    "        label_i[:3] = (label_i[:3] - anchor[:3]) / anchor[3:6]\n",
    "        label_i[3:6] = np.log(label_i[3:6]/anchors)\n",
    "\n",
    "        y_target[x, y, k, :7] = label_i\n",
    "        y_target[x, y, k, 7:8] = [directions[i]]\n",
    "        y_target[x, y, k, 8:9] = [1]\n",
    "        \n",
    "    return old_angles, angles, angles_0, angles_1\n",
    "#     return y_target"
   ]
  },
  {
   "cell_type": "code",
   "execution_count": 49,
   "metadata": {},
   "outputs": [],
   "source": [
    "def get_target3(labels, directions, anchors=np.array([3.9, 1.6, 1.5]), \n",
    "                input_size=(800, 700), output_size=(200, 175)):\n",
    "    # ASSUMPTION: I will assume that the anchors contain a record for the height\n",
    "    \"\"\"\n",
    "    - calculate the ratio = input size / final output size\n",
    "    - divide each of the x, y and z by the ratio\n",
    "    - subtract each of the x, y and z ....\n",
    "    \"\"\"\n",
    "\n",
    "    ratio = input_size[0] // output_size[0]\n",
    "    y_target = np.zeros((output_size[0], output_size[1], 9), np.float32)\n",
    "    new_labels = []\n",
    "    for i in range(len(labels)):\n",
    "        label_i = np.array(labels[i])\n",
    "\n",
    "        x = int(label_i[0]/ratio)\n",
    "        y = int(label_i[1]/ratio)\n",
    "\n",
    "        if x >= output_size[0]:\n",
    "            x = output_size[0] - 1\n",
    "        if y >= output_size[1]:\n",
    "            y = output_size[1] - 1\n",
    "\n",
    "        if x < 0 or y < 0:\n",
    "            continue\n",
    "\n",
    "        label_i[0:2] = label_i[0:2] / (ratio*1.0)\n",
    "        label_i[2] = label_i[2] / 36.\n",
    "\n",
    "        ang = label_i[6]\n",
    "        label_i = np.append(label_i, [0])\n",
    "        label_i[6:8] = [math.sin(ang), math.cos(ang)]\n",
    "        \n",
    "        anchor = np.array([x+0.5, y+0.5, 1., anchors[0], anchors[1], anchors[2]])\n",
    "        label_i[:2] = (label_i[:2] - anchor[:2])\n",
    "        label_i[3:6] = np.log(label_i[3:6])\n",
    "        \n",
    "        mins = np.array([-0.5, -0.5, 0, 0.7, 0.1, 0.1, -1.1, -1.1])\n",
    "        maxs = np.array([0.5, 0.5, 1, 1.9, 0.75, 0.95, 1.1, 1.1])\n",
    "        \n",
    "        label_i = ((label_i - mins) / (maxs-mins)) * 2 - 1\n",
    "        \n",
    "        new_labels.append(label_i)\n",
    "\n",
    "        y_target[x, y, :8] = label_i\n",
    "        y_target[x, y, 8:9] = [1]\n",
    "        \n",
    "    return new_labels"
   ]
  },
  {
   "cell_type": "code",
   "execution_count": 54,
   "metadata": {},
   "outputs": [],
   "source": [
    "new_labels = []\n",
    "for i_c in range(len(list_files)):\n",
    "    rot, tr, sc, image_translate_x, image_translate_y, ang, fliplr = get_augmentation_parameters(True)\n",
    "    data_reader_obj = DataReader(None,\n",
    "                                 list_calib_paths[i_c], \n",
    "                                 list_label_paths[i_c], \n",
    "                                 None, \n",
    "                                 rot, sc, tr, ang, image_translate_x, image_translate_y, get_actual_dims=False, fliplr=fliplr)\n",
    "    _, label, directions = data_reader_obj.label_reader.read_label()\n",
    "    labels2 = get_target3(label, directions,  anchors=np.array([3.9, 1.6, 1.5]))\n",
    "    new_labels.extend(labels2)\n",
    "    "
   ]
  },
  {
   "cell_type": "code",
   "execution_count": 55,
   "metadata": {},
   "outputs": [],
   "source": [
    "new_labels = np.array(new_labels)"
   ]
  },
  {
   "cell_type": "code",
   "execution_count": 56,
   "metadata": {},
   "outputs": [
    {
     "data": {
      "text/plain": [
       "(26811, 8)"
      ]
     },
     "execution_count": 56,
     "metadata": {},
     "output_type": "execute_result"
    }
   ],
   "source": [
    "new_labels.shape"
   ]
  },
  {
   "cell_type": "code",
   "execution_count": 57,
   "metadata": {},
   "outputs": [
    {
     "name": "stdout",
     "output_type": "stream",
     "text": [
      "i =  0 , min =  -0.9998963033733617 , max =  0.9999579412402682\n",
      "i =  1 , min =  -0.9998331144931285 , max =  0.9998722380235563\n",
      "i =  2 , min =  -0.9157024847994941 , max =  0.9997140473069632\n",
      "i =  3 , min =  -0.8601640936193176 , max =  0.9960330998792206\n",
      "i =  4 , min =  -0.9045284233649108 , max =  0.8859994087880771\n",
      "i =  5 , min =  -0.9269923237496377 , max =  0.6727769793325384\n",
      "i =  6 , min =  -0.9090907402334414 , max =  0.9090907402334416\n",
      "i =  7 , min =  -0.9090909090909091 , max =  0.909090909090909\n"
     ]
    }
   ],
   "source": [
    "for i in range(8):\n",
    "    print(\"i = \", i, \", min = \", np.min(new_labels[:, i]), \", max = \", np.max(new_labels[:, i]))"
   ]
  },
  {
   "cell_type": "code",
   "execution_count": 53,
   "metadata": {},
   "outputs": [
    {
     "name": "stdout",
     "output_type": "stream",
     "text": [
      "i =  0 , min =  -0.9999763375340649 , max =  0.9999169108402839\n",
      "i =  1 , min =  -0.9999584360982681 , max =  0.9999856834787977\n",
      "i =  2 , min =  -0.9157024847994941 , max =  0.9995024961871322\n",
      "i =  3 , min =  -0.8601640936193176 , max =  0.9960330998792206\n",
      "i =  4 , min =  -0.9045284233649108 , max =  0.8859994087880771\n",
      "i =  5 , min =  -0.9269923237496377 , max =  0.9017848474750372\n",
      "i =  6 , min =  -0.9090906208471223 , max =  0.9090906208471221\n",
      "i =  7 , min =  -0.9090897561159449 , max =  0.909090909090909\n"
     ]
    }
   ],
   "source": [
    "for i in range(8):\n",
    "    print(\"i = \", i, \", min = \", np.min(new_labels[:, i]), \", max = \", np.max(new_labels[:, i]))"
   ]
  },
  {
   "cell_type": "code",
   "execution_count": null,
   "metadata": {},
   "outputs": [],
   "source": []
  },
  {
   "cell_type": "code",
   "execution_count": null,
   "metadata": {},
   "outputs": [],
   "source": []
  },
  {
   "cell_type": "code",
   "execution_count": 7,
   "metadata": {
    "collapsed": true
   },
   "outputs": [],
   "source": [
    "list_angles = np.array(list_angles)\n",
    "list_original_angles = np.array(list_original_angles)\n",
    "list_angles_0 = np.array(list_angles_0)\n",
    "list_angles_1 = np.array(list_angles_1)"
   ]
  },
  {
   "cell_type": "code",
   "execution_count": 8,
   "metadata": {},
   "outputs": [
    {
     "data": {
      "text/plain": [
       "(0.7815926535897932, -0.7815926535897932)"
      ]
     },
     "execution_count": 8,
     "metadata": {},
     "output_type": "execute_result"
    }
   ],
   "source": [
    "np.max(list_angles), np.min(list_angles)"
   ]
  },
  {
   "cell_type": "code",
   "execution_count": 9,
   "metadata": {},
   "outputs": [
    {
     "data": {
      "text/plain": [
       "(0.7815926535897932, -0.7815926535897932)"
      ]
     },
     "execution_count": 9,
     "metadata": {},
     "output_type": "execute_result"
    }
   ],
   "source": [
    "np.max(list_angles_0), np.min(list_angles_0)"
   ]
  },
  {
   "cell_type": "code",
   "execution_count": 10,
   "metadata": {},
   "outputs": [
    {
     "data": {
      "text/plain": [
       "(2.351592653589793, 0.79)"
      ]
     },
     "execution_count": 10,
     "metadata": {},
     "output_type": "execute_result"
    }
   ],
   "source": [
    "np.max(list_angles_1), np.min(list_angles_1)"
   ]
  },
  {
   "cell_type": "code",
   "execution_count": 11,
   "metadata": {},
   "outputs": [
    {
     "data": {
      "text/plain": [
       "(3.14, 0.0)"
      ]
     },
     "execution_count": 11,
     "metadata": {},
     "output_type": "execute_result"
    }
   ],
   "source": [
    "np.max(list_original_angles), np.min(list_original_angles)"
   ]
  },
  {
   "cell_type": "code",
   "execution_count": null,
   "metadata": {
    "collapsed": true
   },
   "outputs": [],
   "source": []
  },
  {
   "cell_type": "code",
   "execution_count": 19,
   "metadata": {},
   "outputs": [
    {
     "data": {
      "text/plain": [
       "(0.7800000000000002, -0.7815926535897932)"
      ]
     },
     "execution_count": 19,
     "metadata": {},
     "output_type": "execute_result"
    }
   ],
   "source": [
    "np.max(list_angles), np.min(list_angles)"
   ]
  },
  {
   "cell_type": "code",
   "execution_count": 20,
   "metadata": {},
   "outputs": [
    {
     "data": {
      "text/plain": [
       "(3.14, 0.0)"
      ]
     },
     "execution_count": 20,
     "metadata": {},
     "output_type": "execute_result"
    }
   ],
   "source": [
    "np.max(list_original_angles), np.min(list_original_angles)"
   ]
  },
  {
   "cell_type": "code",
   "execution_count": 23,
   "metadata": {},
   "outputs": [
    {
     "data": {
      "text/plain": [
       "(3.141592653589793, 1.5707963267948966, 0.7853981633974483)"
      ]
     },
     "execution_count": 23,
     "metadata": {},
     "output_type": "execute_result"
    }
   ],
   "source": [
    "np.pi, np.pi/2, np.pi/4"
   ]
  },
  {
   "cell_type": "code",
   "execution_count": null,
   "metadata": {
    "collapsed": true
   },
   "outputs": [],
   "source": []
  },
  {
   "cell_type": "code",
   "execution_count": 7,
   "metadata": {},
   "outputs": [],
   "source": [
    "i_c = 3\n",
    "rot, tr, sc, image_translate_x, image_translate_y, ang, fliplr = get_augmentation_parameters(False)\n",
    "data_reader_obj = DataReader(None,\n",
    "                                 list_calib_paths[i_c], \n",
    "                                 list_label_paths[i_c], \n",
    "                                 None, \n",
    "                                 rot, sc, tr, ang, image_translate_x, image_translate_y, get_actual_dims=False, fliplr=fliplr)\n",
    "_, label, directions = data_reader_obj.label_reader.read_label()\n",
    "label2 = get_target(label, directions,  anchors=np.array([3.9, 1.6, 1.5]))"
   ]
  },
  {
   "cell_type": "code",
   "execution_count": 9,
   "metadata": {},
   "outputs": [
    {
     "data": {
      "text/plain": [
       "(1, array([[278.3097315 , 178.11101949,  26.43074065,   4.26      ,\n",
       "           1.74      ,   1.47      ,   3.09      ]]))"
      ]
     },
     "execution_count": 9,
     "metadata": {},
     "output_type": "execute_result"
    }
   ],
   "source": [
    "len(label), label"
   ]
  },
  {
   "cell_type": "code",
   "execution_count": 10,
   "metadata": {},
   "outputs": [
    {
     "data": {
      "text/plain": [
       "(array([69]), array([44]), array([0]))"
      ]
     },
     "execution_count": 10,
     "metadata": {},
     "output_type": "execute_result"
    }
   ],
   "source": [
    "np.where(label2[:, :, :, 8] >= 0.5)"
   ]
  },
  {
   "cell_type": "code",
   "execution_count": 11,
   "metadata": {},
   "outputs": [
    {
     "data": {
      "text/plain": [
       "array([ 0.01985458,  0.0173468 , -0.22615433,  0.08829261,  0.08388148,\n",
       "       -0.02020271, -0.05159265,  1.        ,  1.        ], dtype=float32)"
      ]
     },
     "execution_count": 11,
     "metadata": {},
     "output_type": "execute_result"
    }
   ],
   "source": [
    "label2[69, 44, 0, :]"
   ]
  },
  {
   "cell_type": "code",
   "execution_count": 41,
   "metadata": {},
   "outputs": [
    {
     "data": {
      "text/plain": [
       "0.08388148398070203"
      ]
     },
     "execution_count": 41,
     "metadata": {},
     "output_type": "execute_result"
    }
   ],
   "source": [
    "np.log(1.74/1.6)"
   ]
  },
  {
   "cell_type": "code",
   "execution_count": 56,
   "metadata": {},
   "outputs": [
    {
     "data": {
      "text/plain": [
       "(0.22314355131420976, 1.25, 0.44628710262841953, 1.5625)"
      ]
     },
     "execution_count": 56,
     "metadata": {},
     "output_type": "execute_result"
    }
   ],
   "source": [
    "np.log(2/1.6), 2/1.6, np.log(2.5/1.6), 2.5/1.6"
   ]
  },
  {
   "cell_type": "code",
   "execution_count": 49,
   "metadata": {},
   "outputs": [
    {
     "data": {
      "text/plain": [
       "0.009696961699001222"
      ]
     },
     "execution_count": 49,
     "metadata": {},
     "output_type": "execute_result"
    }
   ],
   "source": [
    "(abs(0.22314355131420976-0.08388148398070203)**2) * 0.5"
   ]
  },
  {
   "cell_type": "code",
   "execution_count": 40,
   "metadata": {},
   "outputs": [
    {
     "data": {
      "text/plain": [
       "4.26000001215941"
      ]
     },
     "execution_count": 40,
     "metadata": {},
     "output_type": "execute_result"
    }
   ],
   "source": [
    "np.exp(0.08829261) * 3.9"
   ]
  },
  {
   "cell_type": "code",
   "execution_count": 42,
   "metadata": {},
   "outputs": [
    {
     "data": {
      "text/plain": [
       "(-0.06410256410256411, 69)"
      ]
     },
     "execution_count": 42,
     "metadata": {},
     "output_type": "execute_result"
    }
   ],
   "source": [
    "temp = 277\n",
    "# temp = 278.3097315\n",
    "((temp/4 - temp//4) - 0.5)/3.9, temp//4"
   ]
  },
  {
   "cell_type": "code",
   "execution_count": 45,
   "metadata": {},
   "outputs": [
    {
     "data": {
      "text/plain": [
       "-0.4160428558974359"
      ]
     },
     "execution_count": 45,
     "metadata": {},
     "output_type": "execute_result"
    }
   ],
   "source": [
    "abs(-0.06410256410256411 - 0.01985458) - 0.5"
   ]
  },
  {
   "cell_type": "code",
   "execution_count": null,
   "metadata": {
    "collapsed": true
   },
   "outputs": [],
   "source": [
    "0.06410256410256411"
   ]
  },
  {
   "cell_type": "code",
   "execution_count": 25,
   "metadata": {},
   "outputs": [
    {
     "data": {
      "text/plain": [
       "278.309731448"
      ]
     },
     "execution_count": 25,
     "metadata": {},
     "output_type": "execute_result"
    }
   ],
   "source": [
    "(0.01985458*3.9 + 69.5) * 4"
   ]
  },
  {
   "cell_type": "code",
   "execution_count": 54,
   "metadata": {},
   "outputs": [
    {
     "data": {
      "text/plain": [
       "(0.577432862, 2.309731448)"
      ]
     },
     "execution_count": 54,
     "metadata": {},
     "output_type": "execute_result"
    }
   ],
   "source": [
    "(0.01985458*3.9 + .5), (0.01985458*3.9 + .5) * 4"
   ]
  },
  {
   "cell_type": "code",
   "execution_count": 16,
   "metadata": {},
   "outputs": [
    {
     "data": {
      "text/plain": [
       "(0.577432862, 0.52775488, 0.6607685050000001)"
      ]
     },
     "execution_count": 16,
     "metadata": {},
     "output_type": "execute_result"
    }
   ],
   "source": [
    "0.01985458*3.9 + 0.5, 0.0173468*1.6 + 0.5, -0.22615433*1.5 + 1"
   ]
  },
  {
   "cell_type": "code",
   "execution_count": 17,
   "metadata": {},
   "outputs": [
    {
     "data": {
      "text/plain": [
       "(69.577432875, 69.0, 44.5277548725, 44.0, 0.66076851625, 0.0)"
      ]
     },
     "execution_count": 17,
     "metadata": {},
     "output_type": "execute_result"
    }
   ],
   "source": [
    "278.3097315 / 4, 278.3097315//4, 178.11101949/4, 178.11101949//4, 26.43074065/40, 26.43074065//40"
   ]
  },
  {
   "cell_type": "code",
   "execution_count": 20,
   "metadata": {},
   "outputs": [
    {
     "data": {
      "text/plain": [
       "278.3097315"
      ]
     },
     "execution_count": 20,
     "metadata": {},
     "output_type": "execute_result"
    }
   ],
   "source": [
    "69.577432875 * 4"
   ]
  },
  {
   "cell_type": "code",
   "execution_count": 21,
   "metadata": {},
   "outputs": [
    {
     "data": {
      "text/plain": [
       "-0.048786794871794874"
      ]
     },
     "execution_count": 21,
     "metadata": {},
     "output_type": "execute_result"
    }
   ],
   "source": [
    "(0.3097315 - 0.5) / 3.9"
   ]
  },
  {
   "cell_type": "code",
   "execution_count": 23,
   "metadata": {},
   "outputs": [
    {
     "data": {
      "text/plain": [
       "0.01985458333333332"
      ]
     },
     "execution_count": 23,
     "metadata": {},
     "output_type": "execute_result"
    }
   ],
   "source": [
    "(0.577432875 - 0.5) / 3.9"
   ]
  },
  {
   "cell_type": "code",
   "execution_count": null,
   "metadata": {
    "collapsed": true
   },
   "outputs": [],
   "source": []
  },
  {
   "cell_type": "code",
   "execution_count": null,
   "metadata": {
    "collapsed": true
   },
   "outputs": [],
   "source": []
  },
  {
   "cell_type": "code",
   "execution_count": null,
   "metadata": {
    "collapsed": true
   },
   "outputs": [],
   "source": []
  },
  {
   "cell_type": "code",
   "execution_count": null,
   "metadata": {
    "collapsed": true
   },
   "outputs": [],
   "source": []
  },
  {
   "cell_type": "code",
   "execution_count": null,
   "metadata": {
    "collapsed": true
   },
   "outputs": [],
   "source": []
  }
 ],
 "metadata": {
  "kernelspec": {
   "display_name": "env",
   "language": "python",
   "name": "env"
  },
  "language_info": {
   "codemirror_mode": {
    "name": "ipython",
    "version": 3
   },
   "file_extension": ".py",
   "mimetype": "text/x-python",
   "name": "python",
   "nbconvert_exporter": "python",
   "pygments_lexer": "ipython3",
   "version": "3.5.2"
  }
 },
 "nbformat": 4,
 "nbformat_minor": 2
}
